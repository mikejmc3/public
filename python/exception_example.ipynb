{
 "cells": [
  {
   "cell_type": "markdown",
   "id": "dated-hamilton",
   "metadata": {},
   "source": [
    "# Exception Handling Demonstration\n",
    "Demonstrate how to handle exceptions using `try` and `except`."
   ]
  },
  {
   "cell_type": "markdown",
   "id": "emotional-manual",
   "metadata": {},
   "source": [
    "# No Exception Handling\n",
    "This divide-by-zero error will cause the program to crash."
   ]
  },
  {
   "cell_type": "code",
   "execution_count": 1,
   "id": "hydraulic-founder",
   "metadata": {},
   "outputs": [
    {
     "ename": "ZeroDivisionError",
     "evalue": "division by zero",
     "output_type": "error",
     "traceback": [
      "\u001b[1;31m---------------------------------------------------------------------------\u001b[0m",
      "\u001b[1;31mZeroDivisionError\u001b[0m                         Traceback (most recent call last)",
      "\u001b[1;32m~\\AppData\\Local\\Temp/ipykernel_14948/3599633117.py\u001b[0m in \u001b[0;36m<module>\u001b[1;34m\u001b[0m\n\u001b[1;32m----> 1\u001b[1;33m \u001b[1;36m42\u001b[0m \u001b[1;33m/\u001b[0m \u001b[1;36m0\u001b[0m\u001b[1;33m\u001b[0m\u001b[1;33m\u001b[0m\u001b[0m\n\u001b[0m",
      "\u001b[1;31mZeroDivisionError\u001b[0m: division by zero"
     ]
    }
   ],
   "source": [
    "42 / 0"
   ]
  },
  {
   "cell_type": "markdown",
   "id": "reserved-angel",
   "metadata": {},
   "source": [
    "# Properly Handling Exceptions\n",
    "Use `try` and `except` for elegant error handling.\n",
    "\n",
    "It is best practice to call out specific error types in `except`. Here, we are limiting to `ZeroDivisionError` only. This follows the [catch what you handle](https://wiki.python.org/moin/HandlingExceptions) principle."
   ]
  },
  {
   "cell_type": "code",
   "execution_count": 2,
   "id": "reliable-translator",
   "metadata": {},
   "outputs": [],
   "source": [
    "def div(divide_by):\n",
    "    try:\n",
    "        # Code that could cause an error goes here\n",
    "        return 42 / divide_by\n",
    "    except ZeroDivisionError:\n",
    "        # Display this if try clause attempts to divide by zero\n",
    "        print(\"Error: Divide by zero.\")"
   ]
  },
  {
   "cell_type": "markdown",
   "id": "duplicate-innocent",
   "metadata": {},
   "source": [
    "Now dividing by zero is handled."
   ]
  },
  {
   "cell_type": "code",
   "execution_count": 3,
   "id": "welcome-mediterranean",
   "metadata": {},
   "outputs": [
    {
     "name": "stdout",
     "output_type": "stream",
     "text": [
      "Error: Divide by zero.\n"
     ]
    }
   ],
   "source": [
    "div(0)"
   ]
  },
  {
   "cell_type": "markdown",
   "id": "above-beginning",
   "metadata": {},
   "source": [
    "Other error types will still cause the program to crash."
   ]
  },
  {
   "cell_type": "code",
   "execution_count": 4,
   "id": "annoying-klein",
   "metadata": {},
   "outputs": [
    {
     "ename": "TypeError",
     "evalue": "unsupported operand type(s) for /: 'int' and 'str'",
     "output_type": "error",
     "traceback": [
      "\u001b[1;31m---------------------------------------------------------------------------\u001b[0m",
      "\u001b[1;31mTypeError\u001b[0m                                 Traceback (most recent call last)",
      "\u001b[1;32m~\\AppData\\Local\\Temp/ipykernel_14948/348816968.py\u001b[0m in \u001b[0;36m<module>\u001b[1;34m\u001b[0m\n\u001b[1;32m----> 1\u001b[1;33m \u001b[0mdiv\u001b[0m\u001b[1;33m(\u001b[0m\u001b[1;34m\"a\"\u001b[0m\u001b[1;33m)\u001b[0m\u001b[1;33m\u001b[0m\u001b[1;33m\u001b[0m\u001b[0m\n\u001b[0m",
      "\u001b[1;32m~\\AppData\\Local\\Temp/ipykernel_14948/675719501.py\u001b[0m in \u001b[0;36mdiv\u001b[1;34m(divide_by)\u001b[0m\n\u001b[0;32m      2\u001b[0m     \u001b[1;32mtry\u001b[0m\u001b[1;33m:\u001b[0m\u001b[1;33m\u001b[0m\u001b[1;33m\u001b[0m\u001b[0m\n\u001b[0;32m      3\u001b[0m         \u001b[1;31m# Code that could cause an error goes here\u001b[0m\u001b[1;33m\u001b[0m\u001b[1;33m\u001b[0m\u001b[1;33m\u001b[0m\u001b[0m\n\u001b[1;32m----> 4\u001b[1;33m         \u001b[1;32mreturn\u001b[0m \u001b[1;36m42\u001b[0m \u001b[1;33m/\u001b[0m \u001b[0mdivide_by\u001b[0m\u001b[1;33m\u001b[0m\u001b[1;33m\u001b[0m\u001b[0m\n\u001b[0m\u001b[0;32m      5\u001b[0m     \u001b[1;32mexcept\u001b[0m \u001b[0mZeroDivisionError\u001b[0m\u001b[1;33m:\u001b[0m\u001b[1;33m\u001b[0m\u001b[1;33m\u001b[0m\u001b[0m\n\u001b[0;32m      6\u001b[0m         \u001b[1;31m# Display this if try clause attempts to divide by zero\u001b[0m\u001b[1;33m\u001b[0m\u001b[1;33m\u001b[0m\u001b[1;33m\u001b[0m\u001b[0m\n",
      "\u001b[1;31mTypeError\u001b[0m: unsupported operand type(s) for /: 'int' and 'str'"
     ]
    }
   ],
   "source": [
    "div(\"a\")"
   ]
  },
  {
   "cell_type": "markdown",
   "id": "unknown-repeat",
   "metadata": {},
   "source": [
    "# Raising Exceptions\n",
    "Use `raise` to raise an exception."
   ]
  },
  {
   "cell_type": "code",
   "execution_count": 5,
   "id": "cultural-election",
   "metadata": {},
   "outputs": [],
   "source": [
    "def div2(divide_by):\n",
    "    try:\n",
    "        return 42 / divide_by\n",
    "    except ZeroDivisionError:\n",
    "        print(\"Error: Divide by zero.\")\n",
    "        raise"
   ]
  },
  {
   "cell_type": "code",
   "execution_count": 6,
   "id": "joint-stack",
   "metadata": {},
   "outputs": [
    {
     "name": "stdout",
     "output_type": "stream",
     "text": [
      "Error: Divide by zero.\n"
     ]
    },
    {
     "ename": "ZeroDivisionError",
     "evalue": "division by zero",
     "output_type": "error",
     "traceback": [
      "\u001b[1;31m---------------------------------------------------------------------------\u001b[0m",
      "\u001b[1;31mZeroDivisionError\u001b[0m                         Traceback (most recent call last)",
      "\u001b[1;32m~\\AppData\\Local\\Temp/ipykernel_14948/1867718663.py\u001b[0m in \u001b[0;36m<module>\u001b[1;34m\u001b[0m\n\u001b[1;32m----> 1\u001b[1;33m \u001b[0mdiv2\u001b[0m\u001b[1;33m(\u001b[0m\u001b[1;36m0\u001b[0m\u001b[1;33m)\u001b[0m\u001b[1;33m\u001b[0m\u001b[1;33m\u001b[0m\u001b[0m\n\u001b[0m",
      "\u001b[1;32m~\\AppData\\Local\\Temp/ipykernel_14948/2943577255.py\u001b[0m in \u001b[0;36mdiv2\u001b[1;34m(divide_by)\u001b[0m\n\u001b[0;32m      1\u001b[0m \u001b[1;32mdef\u001b[0m \u001b[0mdiv2\u001b[0m\u001b[1;33m(\u001b[0m\u001b[0mdivide_by\u001b[0m\u001b[1;33m)\u001b[0m\u001b[1;33m:\u001b[0m\u001b[1;33m\u001b[0m\u001b[1;33m\u001b[0m\u001b[0m\n\u001b[0;32m      2\u001b[0m     \u001b[1;32mtry\u001b[0m\u001b[1;33m:\u001b[0m\u001b[1;33m\u001b[0m\u001b[1;33m\u001b[0m\u001b[0m\n\u001b[1;32m----> 3\u001b[1;33m         \u001b[1;32mreturn\u001b[0m \u001b[1;36m42\u001b[0m \u001b[1;33m/\u001b[0m \u001b[0mdivide_by\u001b[0m\u001b[1;33m\u001b[0m\u001b[1;33m\u001b[0m\u001b[0m\n\u001b[0m\u001b[0;32m      4\u001b[0m     \u001b[1;32mexcept\u001b[0m \u001b[0mZeroDivisionError\u001b[0m\u001b[1;33m:\u001b[0m\u001b[1;33m\u001b[0m\u001b[1;33m\u001b[0m\u001b[0m\n\u001b[0;32m      5\u001b[0m         \u001b[0mprint\u001b[0m\u001b[1;33m(\u001b[0m\u001b[1;34m\"Error: Divide by zero.\"\u001b[0m\u001b[1;33m)\u001b[0m\u001b[1;33m\u001b[0m\u001b[1;33m\u001b[0m\u001b[0m\n",
      "\u001b[1;31mZeroDivisionError\u001b[0m: division by zero"
     ]
    }
   ],
   "source": [
    "div2(0)"
   ]
  },
  {
   "cell_type": "markdown",
   "id": "innocent-restriction",
   "metadata": {},
   "source": [
    "# General Error Handling\n",
    "If no specific error type is provided with `except`, then all errors execute this line.\n",
    "\n",
    "This may lead to some undesirable behavior, so use caution."
   ]
  },
  {
   "cell_type": "code",
   "execution_count": 7,
   "id": "original-botswana",
   "metadata": {},
   "outputs": [],
   "source": [
    "# We could do this instead\n",
    "def div3(divide_by):\n",
    "    try:\n",
    "        return 42 / divide_by\n",
    "    except:\n",
    "        print(\"Error: Divide by zero.\")"
   ]
  },
  {
   "cell_type": "code",
   "execution_count": 8,
   "id": "impaired-education",
   "metadata": {},
   "outputs": [
    {
     "name": "stdout",
     "output_type": "stream",
     "text": [
      "Error: Divide by zero.\n"
     ]
    }
   ],
   "source": [
    "div3(0)"
   ]
  },
  {
   "cell_type": "markdown",
   "id": "general-intranet",
   "metadata": {},
   "source": [
    "The next error message will not make sense."
   ]
  },
  {
   "cell_type": "code",
   "execution_count": 9,
   "id": "bound-roulette",
   "metadata": {},
   "outputs": [
    {
     "name": "stdout",
     "output_type": "stream",
     "text": [
      "Error: Divide by zero.\n"
     ]
    }
   ],
   "source": [
    "div3(\"a\")"
   ]
  },
  {
   "cell_type": "markdown",
   "id": "burning-delay",
   "metadata": {},
   "source": [
    "# Handling Multiple Error Types\n",
    "Multiple `except` blocks can be used."
   ]
  },
  {
   "cell_type": "code",
   "execution_count": 10,
   "id": "measured-virus",
   "metadata": {},
   "outputs": [],
   "source": [
    "def div4(divide_by):\n",
    "    try:\n",
    "        return 42 / divide_by\n",
    "    except ZeroDivisionError:\n",
    "        # Execution moves here if code in try clause results in ZeroDivisionError\n",
    "        print(\"Error: Divide by zero.\")\n",
    "    except TypeError:\n",
    "        # Execution moves here if code in try clause results in TypeError\n",
    "        print(\"Error: Type mismatch.\")"
   ]
  },
  {
   "cell_type": "code",
   "execution_count": 11,
   "id": "magnetic-wheat",
   "metadata": {},
   "outputs": [
    {
     "name": "stdout",
     "output_type": "stream",
     "text": [
      "Error: Divide by zero.\n"
     ]
    }
   ],
   "source": [
    "div4(0)"
   ]
  },
  {
   "cell_type": "code",
   "execution_count": 12,
   "id": "spectacular-tanzania",
   "metadata": {},
   "outputs": [
    {
     "name": "stdout",
     "output_type": "stream",
     "text": [
      "Error: Type mismatch.\n"
     ]
    }
   ],
   "source": [
    "div4(\"a\")"
   ]
  },
  {
   "cell_type": "markdown",
   "id": "broad-savannah",
   "metadata": {},
   "source": [
    "As an alternative, look for several error types in a single `except` block."
   ]
  },
  {
   "cell_type": "code",
   "execution_count": 13,
   "id": "laughing-findings",
   "metadata": {},
   "outputs": [],
   "source": [
    "def div5(divide_by):\n",
    "    try:\n",
    "        return 42 / divide_by\n",
    "    except (TypeError, ZeroDivisionError) as e:\n",
    "        print(f\"Error: {e.args[-1]}\")"
   ]
  },
  {
   "cell_type": "markdown",
   "id": "bored-finnish",
   "metadata": {},
   "source": [
    "In this example, we will use error messages provided by the error types we encounter."
   ]
  },
  {
   "cell_type": "code",
   "execution_count": 14,
   "id": "mechanical-ratio",
   "metadata": {},
   "outputs": [
    {
     "name": "stdout",
     "output_type": "stream",
     "text": [
      "Error: division by zero\n"
     ]
    }
   ],
   "source": [
    "div5(0)"
   ]
  },
  {
   "cell_type": "code",
   "execution_count": 15,
   "id": "demonstrated-council",
   "metadata": {},
   "outputs": [
    {
     "name": "stdout",
     "output_type": "stream",
     "text": [
      "Error: unsupported operand type(s) for /: 'int' and 'str'\n"
     ]
    }
   ],
   "source": [
    "div5(\"a\")"
   ]
  }
 ],
 "metadata": {
  "kernelspec": {
   "display_name": "Python 3 (ipykernel)",
   "language": "python",
   "name": "python3"
  },
  "language_info": {
   "codemirror_mode": {
    "name": "ipython",
    "version": 3
   },
   "file_extension": ".py",
   "mimetype": "text/x-python",
   "name": "python",
   "nbconvert_exporter": "python",
   "pygments_lexer": "ipython3",
   "version": "3.8.12"
  }
 },
 "nbformat": 4,
 "nbformat_minor": 5
}
