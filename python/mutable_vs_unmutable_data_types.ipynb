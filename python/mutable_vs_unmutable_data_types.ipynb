{
 "cells": [
  {
   "cell_type": "markdown",
   "id": "premier-contributor",
   "metadata": {},
   "source": [
    "# Mutable vs. Unmutable Data Types\n",
    "Certain data types are mutable (e.g., lists) and others are unmutable (e.g., integers, strings, tuples).\n",
    "\n",
    "A mutable list, for example, can have its items appended, modified, or removed. Furthermore, there are dependencies among lists with common references due to shared IDs. Due to this dependency, if two lists share a common ID, a change to either list impact the other.\n",
    "\n",
    "An unmutable integer, for example, cannot be changed (at the ID level). When the value is updated, a new ID is created. When a new unmutable variable is assigned a value from another unmutable variable, changes to one variable have no effect on the other."
   ]
  },
  {
   "cell_type": "markdown",
   "id": "relative-badge",
   "metadata": {},
   "source": [
    "# Functions"
   ]
  },
  {
   "cell_type": "code",
   "execution_count": 1,
   "id": "previous-pendant",
   "metadata": {},
   "outputs": [],
   "source": [
    "def comp_id(obj1, obj2):\n",
    "    \"\"\"Compare and report object IDs\"\"\"\n",
    "    if id(obj1) == id(obj2):\n",
    "        print(\"IDs match.\")\n",
    "        print(f\"The ID for these is {id(obj1)}\")\n",
    "    else:\n",
    "        print(\"IDs do not match.\")\n",
    "        print(f\"The ID for original is {id(obj1)}\")\n",
    "        print(f\"The ID for new is {id(obj2)}\")"
   ]
  },
  {
   "cell_type": "markdown",
   "id": "handed-colleague",
   "metadata": {},
   "source": [
    "# Mutable Example"
   ]
  },
  {
   "cell_type": "markdown",
   "id": "transparent-bouquet",
   "metadata": {},
   "source": [
    "Create a list."
   ]
  },
  {
   "cell_type": "code",
   "execution_count": 2,
   "id": "acoustic-stack",
   "metadata": {},
   "outputs": [],
   "source": [
    "list_orig = [1, 2, 3]"
   ]
  },
  {
   "cell_type": "markdown",
   "id": "colonial-liverpool",
   "metadata": {},
   "source": [
    "Create a new list, and assign the values of the original list to it. Note that for lists, this **does not** create copies of the values from the original list. Instead, both lists now point to the same stored values."
   ]
  },
  {
   "cell_type": "code",
   "execution_count": 3,
   "id": "dietary-shelter",
   "metadata": {},
   "outputs": [],
   "source": [
    "list_new = list_orig"
   ]
  },
  {
   "cell_type": "markdown",
   "id": "superior-establishment",
   "metadata": {},
   "source": [
    "The ID of the new list matches the ID of the original list."
   ]
  },
  {
   "cell_type": "code",
   "execution_count": 4,
   "id": "blessed-asbestos",
   "metadata": {},
   "outputs": [
    {
     "name": "stdout",
     "output_type": "stream",
     "text": [
      "IDs match.\n",
      "The ID for these is 1570550445440\n"
     ]
    }
   ],
   "source": [
    "comp_id(list_orig, list_new)"
   ]
  },
  {
   "cell_type": "markdown",
   "id": "radical-session",
   "metadata": {},
   "source": [
    "Change a value in the new list."
   ]
  },
  {
   "cell_type": "code",
   "execution_count": 5,
   "id": "lasting-iceland",
   "metadata": {},
   "outputs": [],
   "source": [
    "list_new[1] = \"ABC\""
   ]
  },
  {
   "cell_type": "markdown",
   "id": "perceived-classics",
   "metadata": {},
   "source": [
    "This change in the new list impacts the original list. This happens because both lists share the same reference to the stored values."
   ]
  },
  {
   "cell_type": "code",
   "execution_count": 6,
   "id": "noticed-travel",
   "metadata": {},
   "outputs": [
    {
     "data": {
      "text/plain": [
       "[1, 'ABC', 3]"
      ]
     },
     "execution_count": 6,
     "metadata": {},
     "output_type": "execute_result"
    }
   ],
   "source": [
    "list_orig"
   ]
  },
  {
   "cell_type": "code",
   "execution_count": 7,
   "id": "appreciated-classroom",
   "metadata": {},
   "outputs": [
    {
     "data": {
      "text/plain": [
       "[1, 'ABC', 3]"
      ]
     },
     "execution_count": 7,
     "metadata": {},
     "output_type": "execute_result"
    }
   ],
   "source": [
    "list_new"
   ]
  },
  {
   "cell_type": "markdown",
   "id": "expensive-leader",
   "metadata": {},
   "source": [
    "Both lists still have matching IDs, and the ID has remained unchanged."
   ]
  },
  {
   "cell_type": "code",
   "execution_count": 8,
   "id": "empirical-invasion",
   "metadata": {},
   "outputs": [
    {
     "name": "stdout",
     "output_type": "stream",
     "text": [
      "IDs match.\n",
      "The ID for these is 1570550445440\n"
     ]
    }
   ],
   "source": [
    "comp_id(list_orig, list_new)"
   ]
  },
  {
   "cell_type": "markdown",
   "id": "functioning-ordering",
   "metadata": {},
   "source": [
    "## Updating Mutable Objects In-Place vs. Using Assignment\n",
    "For lists, note that methods that allow for the object to be modified in place will keep the ID intact, but updating the list through re-assignment will result in a new ID being created.\n",
    "\n",
    "For example, first update `list_new` in place using the `append()` method. This change will be reflected in both lists, and their ID will remain unchanged."
   ]
  },
  {
   "cell_type": "code",
   "execution_count": 9,
   "id": "underlying-vacuum",
   "metadata": {},
   "outputs": [],
   "source": [
    "list_new.append(4)"
   ]
  },
  {
   "cell_type": "markdown",
   "id": "russian-collect",
   "metadata": {},
   "source": [
    "The new value was appended to `list_orig` as well because `list_new` was updated in-place using the `append()` method."
   ]
  },
  {
   "cell_type": "code",
   "execution_count": 10,
   "id": "loving-registrar",
   "metadata": {},
   "outputs": [
    {
     "data": {
      "text/plain": [
       "[1, 'ABC', 3, 4]"
      ]
     },
     "execution_count": 10,
     "metadata": {},
     "output_type": "execute_result"
    }
   ],
   "source": [
    "list_orig"
   ]
  },
  {
   "cell_type": "markdown",
   "id": "nominated-happiness",
   "metadata": {},
   "source": [
    "IDs still match."
   ]
  },
  {
   "cell_type": "code",
   "execution_count": 11,
   "id": "dimensional-wisconsin",
   "metadata": {},
   "outputs": [
    {
     "name": "stdout",
     "output_type": "stream",
     "text": [
      "IDs match.\n",
      "The ID for these is 1570550445440\n"
     ]
    }
   ],
   "source": [
    "comp_id(list_orig, list_new)"
   ]
  },
  {
   "cell_type": "markdown",
   "id": "duplicate-bacteria",
   "metadata": {},
   "source": [
    "Now update `list_new` using assignment. This change will affect `list_new` but **not** `list_orig`, and their IDs will now be different."
   ]
  },
  {
   "cell_type": "code",
   "execution_count": 12,
   "id": "front-cyprus",
   "metadata": {},
   "outputs": [
    {
     "data": {
      "text/plain": [
       "[1, 'ABC', 3, 4, 5]"
      ]
     },
     "execution_count": 12,
     "metadata": {},
     "output_type": "execute_result"
    }
   ],
   "source": [
    "list_new = list_new + [5]\n",
    "list_new"
   ]
  },
  {
   "cell_type": "code",
   "execution_count": 13,
   "id": "tutorial-mystery",
   "metadata": {},
   "outputs": [
    {
     "data": {
      "text/plain": [
       "[1, 'ABC', 3, 4]"
      ]
     },
     "execution_count": 13,
     "metadata": {},
     "output_type": "execute_result"
    }
   ],
   "source": [
    "list_orig"
   ]
  },
  {
   "cell_type": "code",
   "execution_count": 14,
   "id": "described-attack",
   "metadata": {},
   "outputs": [
    {
     "name": "stdout",
     "output_type": "stream",
     "text": [
      "IDs do not match.\n",
      "The ID for original is 1570550445440\n",
      "The ID for new is 1570550440128\n"
     ]
    }
   ],
   "source": [
    "comp_id(list_orig, list_new)"
   ]
  },
  {
   "cell_type": "markdown",
   "id": "skilled-ethiopia",
   "metadata": {},
   "source": [
    "## Using the `copy` Module's `copy()` and `deepcopy()` Functions\n",
    "To make an independent copy of a list, import the `copy` module and use its `copy()` function for simple lists, and use its `deepcopy()` function to make a copy of a list and any embedded lists within it."
   ]
  },
  {
   "cell_type": "code",
   "execution_count": 15,
   "id": "activated-receptor",
   "metadata": {},
   "outputs": [
    {
     "name": "stdout",
     "output_type": "stream",
     "text": [
      "IDs do not match.\n",
      "The ID for original is 1570550446784\n",
      "The ID for new is 1570550406912\n"
     ]
    }
   ],
   "source": [
    "import copy\n",
    "\n",
    "list_orig = [\"a\", \"b\", \"c\"]\n",
    "list_new = copy.copy(list_orig)\n",
    "\n",
    "comp_id(list_orig, list_new)"
   ]
  },
  {
   "cell_type": "markdown",
   "id": "acting-yeast",
   "metadata": {},
   "source": [
    "# Unmutable Example"
   ]
  },
  {
   "cell_type": "markdown",
   "id": "correct-musician",
   "metadata": {},
   "source": [
    "Create a tuple."
   ]
  },
  {
   "cell_type": "code",
   "execution_count": 16,
   "id": "inner-custody",
   "metadata": {},
   "outputs": [],
   "source": [
    "tup_orig = (1, 2, 3)"
   ]
  },
  {
   "cell_type": "markdown",
   "id": "minor-parallel",
   "metadata": {},
   "source": [
    "Create a new tuple, and assign values from the original tuple to it."
   ]
  },
  {
   "cell_type": "code",
   "execution_count": 17,
   "id": "accepting-conversation",
   "metadata": {},
   "outputs": [],
   "source": [
    "tup_new = tup_orig"
   ]
  },
  {
   "cell_type": "markdown",
   "id": "curious-affiliate",
   "metadata": {},
   "source": [
    "Compare IDs."
   ]
  },
  {
   "cell_type": "code",
   "execution_count": 18,
   "id": "private-wallpaper",
   "metadata": {},
   "outputs": [
    {
     "name": "stdout",
     "output_type": "stream",
     "text": [
      "IDs match.\n",
      "The ID for these is 1570545424384\n"
     ]
    }
   ],
   "source": [
    "comp_id(tup_orig, tup_new)"
   ]
  },
  {
   "cell_type": "markdown",
   "id": "valid-leader",
   "metadata": {},
   "source": [
    "Change the new tuple.  Due to their unmutable nature, tuples cannot be updated \"in place\" like lists. "
   ]
  },
  {
   "cell_type": "code",
   "execution_count": 19,
   "id": "considered-calculation",
   "metadata": {},
   "outputs": [
    {
     "data": {
      "text/plain": [
       "('A', 'B', 'C')"
      ]
     },
     "execution_count": 19,
     "metadata": {},
     "output_type": "execute_result"
    }
   ],
   "source": [
    "tup_new = (\"A\", \"B\", \"C\")\n",
    "tup_new"
   ]
  },
  {
   "cell_type": "markdown",
   "id": "unexpected-appraisal",
   "metadata": {},
   "source": [
    "Note that the values and ID for the original tuple have not changed."
   ]
  },
  {
   "cell_type": "code",
   "execution_count": 20,
   "id": "medium-retreat",
   "metadata": {},
   "outputs": [
    {
     "data": {
      "text/plain": [
       "(1, 2, 3)"
      ]
     },
     "execution_count": 20,
     "metadata": {},
     "output_type": "execute_result"
    }
   ],
   "source": [
    "tup_orig"
   ]
  },
  {
   "cell_type": "markdown",
   "id": "upper-lunch",
   "metadata": {},
   "source": [
    "Because tuples are unmutable, re-assigning new values for a tuple also changes its ID. The values and ID of the original tuple remain unchanged. Because the new tuple contains new values, its ID no longer matches the orignal tuple's ID."
   ]
  },
  {
   "cell_type": "code",
   "execution_count": 21,
   "id": "micro-pasta",
   "metadata": {},
   "outputs": [
    {
     "name": "stdout",
     "output_type": "stream",
     "text": [
      "IDs do not match.\n",
      "The ID for original is 1570545424384\n",
      "The ID for new is 1570545727296\n"
     ]
    }
   ],
   "source": [
    "comp_id(tup_orig, tup_new)"
   ]
  }
 ],
 "metadata": {
  "kernelspec": {
   "display_name": "Python 3 (ipykernel)",
   "language": "python",
   "name": "python3"
  },
  "language_info": {
   "codemirror_mode": {
    "name": "ipython",
    "version": 3
   },
   "file_extension": ".py",
   "mimetype": "text/x-python",
   "name": "python",
   "nbconvert_exporter": "python",
   "pygments_lexer": "ipython3",
   "version": "3.8.12"
  }
 },
 "nbformat": 4,
 "nbformat_minor": 5
}
