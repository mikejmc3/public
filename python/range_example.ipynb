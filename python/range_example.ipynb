{
 "cells": [
  {
   "cell_type": "markdown",
   "id": "global-comment",
   "metadata": {},
   "source": [
    "# Using `range()`\n",
    "```python\n",
    "range(stop)\n",
    "\n",
    "range(start, stop[, step])\n",
    "```\n",
    "\n",
    "See also https://docs.python.org/3/library/stdtypes.html#range"
   ]
  },
  {
   "cell_type": "markdown",
   "id": "posted-investing",
   "metadata": {},
   "source": [
    "# Provide One Argument\n",
    "If a single integer is passed as `range(y)`:\n",
    "* A total of _y_ values will be produced\n",
    "* Values will range from 0 to (_y_ - 1)"
   ]
  },
  {
   "cell_type": "code",
   "execution_count": 1,
   "id": "precious-destiny",
   "metadata": {},
   "outputs": [
    {
     "data": {
      "text/plain": [
       "[0, 1, 2, 3, 4, 5, 6, 7, 8, 9]"
      ]
     },
     "execution_count": 1,
     "metadata": {},
     "output_type": "execute_result"
    }
   ],
   "source": [
    "list(range(10))"
   ]
  },
  {
   "cell_type": "markdown",
   "id": "champion-workstation",
   "metadata": {},
   "source": [
    "# Provide Two Arguments\n",
    "If two integers are passed as `range(x, y)`:\n",
    "* A total of (_y_ - _x_) values will be produced\n",
    "* Values will range from _x_ to (_y_ - 1)"
   ]
  },
  {
   "cell_type": "code",
   "execution_count": 2,
   "id": "recognized-irish",
   "metadata": {},
   "outputs": [
    {
     "data": {
      "text/plain": [
       "[5, 6, 7, 8, 9]"
      ]
     },
     "execution_count": 2,
     "metadata": {},
     "output_type": "execute_result"
    }
   ],
   "source": [
    "list(range(5, 10))"
   ]
  },
  {
   "cell_type": "markdown",
   "id": "recent-recorder",
   "metadata": {},
   "source": [
    "Ranges may incorporate negative values."
   ]
  },
  {
   "cell_type": "code",
   "execution_count": 3,
   "id": "modern-seven",
   "metadata": {},
   "outputs": [
    {
     "data": {
      "text/plain": [
       "[-3, -2, -1, 0, 1, 2]"
      ]
     },
     "execution_count": 3,
     "metadata": {},
     "output_type": "execute_result"
    }
   ],
   "source": [
    "list(range(-3, 3))"
   ]
  },
  {
   "cell_type": "code",
   "execution_count": 4,
   "id": "numeric-astronomy",
   "metadata": {},
   "outputs": [
    {
     "data": {
      "text/plain": [
       "[-10, -9, -8, -7, -6, -5]"
      ]
     },
     "execution_count": 4,
     "metadata": {},
     "output_type": "execute_result"
    }
   ],
   "source": [
    "list(range(-10, -4))"
   ]
  },
  {
   "cell_type": "markdown",
   "id": "relevant-tyler",
   "metadata": {},
   "source": [
    "If two arguments are provided, _x_ should be less than _y_.\n",
    "Provide a third argument for ranges that count backward (see further below for examples)."
   ]
  },
  {
   "cell_type": "code",
   "execution_count": 5,
   "id": "forward-iceland",
   "metadata": {},
   "outputs": [
    {
     "data": {
      "text/plain": [
       "[]"
      ]
     },
     "execution_count": 5,
     "metadata": {},
     "output_type": "execute_result"
    }
   ],
   "source": [
    "list(range(10, 10))"
   ]
  },
  {
   "cell_type": "code",
   "execution_count": 6,
   "id": "ideal-joshua",
   "metadata": {},
   "outputs": [
    {
     "data": {
      "text/plain": [
       "[]"
      ]
     },
     "execution_count": 6,
     "metadata": {},
     "output_type": "execute_result"
    }
   ],
   "source": [
    "list(range(5, 1))"
   ]
  },
  {
   "cell_type": "markdown",
   "id": "rotary-airplane",
   "metadata": {},
   "source": [
    "# Provide Three Arguments\n",
    "If three integers are passed as `range(x, y, z)`:\n",
    "* For ascending ranges, values will range from _x_ up to a possible max of (_y_ - 1) in increments of _z_\n",
    "* The actual upper limit of the range depends on the increment"
   ]
  },
  {
   "cell_type": "code",
   "execution_count": 7,
   "id": "yellow-revision",
   "metadata": {},
   "outputs": [
    {
     "data": {
      "text/plain": [
       "[3, 7, 11, 15]"
      ]
     },
     "execution_count": 7,
     "metadata": {},
     "output_type": "execute_result"
    }
   ],
   "source": [
    "list(range(3, 17, 4))"
   ]
  },
  {
   "cell_type": "markdown",
   "id": "compatible-intake",
   "metadata": {},
   "source": [
    "For descending ranges, reverse the order of _x_ and _y_ and provide a negative increment (-_z_)."
   ]
  },
  {
   "cell_type": "code",
   "execution_count": 8,
   "id": "finnish-compiler",
   "metadata": {},
   "outputs": [
    {
     "data": {
      "text/plain": [
       "[5, 4, 3, 2, 1]"
      ]
     },
     "execution_count": 8,
     "metadata": {},
     "output_type": "execute_result"
    }
   ],
   "source": [
    "list(range(5, 0, -1))"
   ]
  },
  {
   "cell_type": "code",
   "execution_count": 9,
   "id": "inappropriate-delhi",
   "metadata": {},
   "outputs": [
    {
     "data": {
      "text/plain": [
       "[25, 20, 15, 10]"
      ]
     },
     "execution_count": 9,
     "metadata": {},
     "output_type": "execute_result"
    }
   ],
   "source": [
    "list(range(25, 5, -5))"
   ]
  }
 ],
 "metadata": {
  "kernelspec": {
   "display_name": "Python 3",
   "language": "python",
   "name": "python3"
  },
  "language_info": {
   "codemirror_mode": {
    "name": "ipython",
    "version": 3
   },
   "file_extension": ".py",
   "mimetype": "text/x-python",
   "name": "python",
   "nbconvert_exporter": "python",
   "pygments_lexer": "ipython3",
   "version": "3.8.8"
  }
 },
 "nbformat": 4,
 "nbformat_minor": 5
}
