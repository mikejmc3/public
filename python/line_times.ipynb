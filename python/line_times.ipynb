{
 "cells": [
  {
   "cell_type": "markdown",
   "id": "ambient-authorization",
   "metadata": {},
   "source": [
    "# Simple Line Times Comparison\n",
    "\n",
    "As a lifelong theme park patron, I am very experienced with standing in excessively long lines. Some rides have the unique benefit of splitting up the line into multiple parallel segments. I wrote this fun little program to calculate the difference in wait times for different numbers of segments, assuming a fixed number of total people in line and an average ride loading time.\n",
    "\n",
    "Note that the original R code appears at the bottom, which I provide to contrast the appearance of the results in this Jupyter notebook."
   ]
  },
  {
   "cell_type": "markdown",
   "id": "internal-corps",
   "metadata": {},
   "source": [
    "# Python Code"
   ]
  },
  {
   "cell_type": "code",
   "execution_count": 1,
   "id": "defined-background",
   "metadata": {},
   "outputs": [],
   "source": [
    "from IPython.display import display, HTML\n",
    "import pandas as pd"
   ]
  },
  {
   "cell_type": "code",
   "execution_count": 2,
   "id": "crude-analyst",
   "metadata": {},
   "outputs": [],
   "source": [
    "def check_time(n_peeps, avg_wait, n_lines, verbose=False):\n",
    "    \"\"\"Compute total line wait time\n",
    "\n",
    "    Arguments:\n",
    "        - n_peeps: Total number of people in line\n",
    "        - avg_wait: Typical time (seconds) it takes one person to board \n",
    "          ride\n",
    "        - n_lines: Number of lines in use.\n",
    "        - verbose: Print detailed results to console? [True | False]\n",
    "    \"\"\"\n",
    "    line_wait = n_peeps * avg_wait / 60 / n_lines\n",
    "    if verbose:\n",
    "        print(f\"Wait time for {n_peeps} passengers with average board time of\"\n",
    "              f\" {avg_wait} seconds and {n_lines} lines in use:\")\n",
    "        print(f\"{round(line_wait, 2)} minutes\")\n",
    "        print(f\"{round(line_wait / 60, 2)} hours\\n\\n\")\n",
    "    return line_wait"
   ]
  },
  {
   "cell_type": "code",
   "execution_count": 3,
   "id": "brilliant-moore",
   "metadata": {},
   "outputs": [],
   "source": [
    "def compare_times(n_peeps, avg_wait, n_lines_1, n_lines_2, verbose=False):\n",
    "    \"\"\"Compute reduction in wait time when adding lines\n",
    "\n",
    "    Arguments:\n",
    "        - n_peeps: Total number of people in line\n",
    "        - avg_wait: Typical time (seconds) it takes one person to board \n",
    "          ride\n",
    "        - n_lines_1: Number of lines in use at time point 1\n",
    "        - n_lines_2: Number of lines in use at time point 2\n",
    "        - verbose: Print detailed results to console? [True | False]\n",
    "    \"\"\"\n",
    "    # Compute time\n",
    "    min_1 = check_time(n_peeps, avg_wait, n_lines_1, verbose)\n",
    "    min_2 = check_time(n_peeps, avg_wait, n_lines_2, verbose)\n",
    "    # Combine and display results\n",
    "    lines = [n_lines_1, n_lines_2]\n",
    "    minutes = [round(min_1), round(min_2)]\n",
    "    hours = [round(min_1 / 60, 2), round(min_2 / 60, 2)]\n",
    "    df = pd.DataFrame(data = {\"Lines\": lines, \"Minutes\": minutes, \n",
    "                              \"Hours\": hours})\n",
    "    # print(df.to_string(index = False))\n",
    "    # Following line requires IPython and pandas\n",
    "    display(HTML(df.to_html(index=False)))\n",
    "    print(f\"\\nPct Reduction in Wait Time: \"\n",
    "          f\"{round((min_1 - min_2) / min_1 * 100)}%\\n\")"
   ]
  },
  {
   "cell_type": "code",
   "execution_count": 4,
   "id": "constant-orange",
   "metadata": {},
   "outputs": [
    {
     "name": "stdout",
     "output_type": "stream",
     "text": [
      "Wait time for 1500 passengers with average board time of 15 seconds and 2 lines in use:\n",
      "187.5 minutes\n",
      "3.12 hours\n",
      "\n",
      "\n",
      "Wait time for 1500 passengers with average board time of 15 seconds and 3 lines in use:\n",
      "125.0 minutes\n",
      "2.08 hours\n",
      "\n",
      "\n"
     ]
    },
    {
     "data": {
      "text/html": [
       "<table border=\"1\" class=\"dataframe\">\n",
       "  <thead>\n",
       "    <tr style=\"text-align: right;\">\n",
       "      <th>Lines</th>\n",
       "      <th>Minutes</th>\n",
       "      <th>Hours</th>\n",
       "    </tr>\n",
       "  </thead>\n",
       "  <tbody>\n",
       "    <tr>\n",
       "      <td>2</td>\n",
       "      <td>188</td>\n",
       "      <td>3.12</td>\n",
       "    </tr>\n",
       "    <tr>\n",
       "      <td>3</td>\n",
       "      <td>125</td>\n",
       "      <td>2.08</td>\n",
       "    </tr>\n",
       "  </tbody>\n",
       "</table>"
      ],
      "text/plain": [
       "<IPython.core.display.HTML object>"
      ]
     },
     "metadata": {},
     "output_type": "display_data"
    },
    {
     "name": "stdout",
     "output_type": "stream",
     "text": [
      "\n",
      "Pct Reduction in Wait Time: 33%\n",
      "\n"
     ]
    }
   ],
   "source": [
    "compare_times(1500, 15, 2, 3, True)"
   ]
  },
  {
   "cell_type": "markdown",
   "id": "statewide-crossing",
   "metadata": {},
   "source": [
    "# Original R Code\n",
    "\n",
    "```r\n",
    "check_time <- function(n_peeps, avg_wait, n_lines, verbose = FALSE) {\n",
    "  # Compute total line wait time.\n",
    "  #\n",
    "  # Arguments:\n",
    "  #   - n_peeps: Total number of people in line\n",
    "  #   - avg_wait: Typical time (seconds) it takes one person to board ride\n",
    "  #   - n_lines: Number of lines in use.\n",
    "  #   - verbose: Print detailed results to console? [TRUE | FALSE]\n",
    "  line_wait <- n_peeps * avg_wait / 60 / n_lines\n",
    "  if (verbose == TRUE) {\n",
    "    cat(\"Wait time for \", n_peeps, \" passengers with average board time of \",\n",
    "        avg_wait, \" seconds and \", n_lines, \" lines in use:\\n\",\n",
    "        round(line_wait, 2), \" minutes\\n\",\n",
    "        round(line_wait / 60, 2), \" hours\\n\\n\", sep = \"\")\n",
    "  }\n",
    "  return(line_wait)\n",
    "}\n",
    "\n",
    "\n",
    "compare_times <- function(n_peeps, avg_wait, n_lines_1, n_lines_2,\n",
    "                          verbose = FALSE) {\n",
    "  # Compute reduction in wait time when adding lines\n",
    "  #\n",
    "  # Arguments:\n",
    "  #   - n_peeps: Total number of people in line\n",
    "  #   - avg_wait: Typical time (seconds) it takes one person to board ride\n",
    "  #   - n_lines_1: Number of lines in use at time point 1\n",
    "  #   - n_lines_2: Number of lines in use at time point 2\n",
    "  #   - verbose: Print detailed results to console? [TRUE | FALSE]\n",
    "  min_1 <- check_time(n_peeps, avg_wait, n_lines_1, verbose = verbose)\n",
    "  min_2 <- check_time(n_peeps, avg_wait, n_lines_2, verbose = verbose)\n",
    "  Lines <- c(n_lines_1, n_lines_2)\n",
    "  Minutes <- c(round(min_1), round(min_2))\n",
    "  Hours <- c(round(min_1 / 60, 2), round(min_2 / 60, 2))\n",
    "  cat(\"Wait time for \", n_peeps, \" passengers with average board time of \",\n",
    "      avg_wait, \" seconds:\\n\\n\", sep = \"\")\n",
    "  print(as.data.frame(cbind(Lines, Minutes, Hours)), row_names = FALSE)\n",
    "  cat(\"\\nPct Reduction in Wait Time: \", round((min_1 - min_2) / min_1 * 100), \n",
    "      \"%\\n\", sep = \"\")\n",
    "}\n",
    "\n",
    "\n",
    "# Compare Times ---------------------------------------------------------------\n",
    "compare_times(1500, 15, 2, 3, TRUE)\n",
    "```"
   ]
  },
  {
   "cell_type": "markdown",
   "id": "strong-tissue",
   "metadata": {},
   "source": [
    "## R Output\n",
    "\n",
    "```\n",
    "> compare_times(1500, 15, 2, 3, TRUE)\n",
    "Wait time for 1500 passengers with average board time of 15 seconds and 2 lines in use:\n",
    "187.5 minutes\n",
    "3.12 hours\n",
    "\n",
    "Wait time for 1500 passengers with average board time of 15 seconds and 3 lines in use:\n",
    "125 minutes\n",
    "2.08 hours\n",
    "\n",
    "Wait time for 1500 passengers with average board time of 15 seconds:\n",
    "\n",
    "  Lines Minutes Hours\n",
    "1     2     188  3.12\n",
    "2     3     125  2.08\n",
    "\n",
    "Pct Reduction in Wait Time: 33%\n",
    "```"
   ]
  }
 ],
 "metadata": {
  "kernelspec": {
   "display_name": ".venv",
   "language": "python",
   "name": "python3"
  },
  "language_info": {
   "codemirror_mode": {
    "name": "ipython",
    "version": 3
   },
   "file_extension": ".py",
   "mimetype": "text/x-python",
   "name": "python",
   "nbconvert_exporter": "python",
   "pygments_lexer": "ipython3",
   "version": "3.10.12"
  }
 },
 "nbformat": 4,
 "nbformat_minor": 5
}
